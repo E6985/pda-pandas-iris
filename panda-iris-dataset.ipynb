{
 "cells": [
  {
   "cell_type": "markdown",
   "metadata": {},
   "source": [
    "< [GMIT Data Analytics](https://web.archive.org/web/20201029063153/https://www.gmit.ie/computer-science-and-applied-physics/higher-diploma-science-computing-data-analytics-ict) | [Table of Contents](https://github.com/E6985) | [README](https://github.com/E6985/fda-tasks/blob/master/README.md) >\n",
    "\n",
    "<img src=\"img/gmit.png\" />\n",
    "\n",
    "## pandas - iris dataset\n",
    "***"
   ]
  },
  {
   "cell_type": "markdown",
   "metadata": {},
   "source": [
    "- three types of iris flower - versicolor - setosa - virginica [2.5]"
   ]
  },
  {
   "cell_type": "markdown",
   "metadata": {},
   "source": [
    "- on the first colour image - pointing out - sepal - petal [2.5]"
   ]
  },
  {
   "cell_type": "markdown",
   "metadata": {},
   "source": [
    "<img src=\"img/iris.png\" />"
   ]
  },
  {
   "cell_type": "markdown",
   "metadata": {},
   "source": [
    "- iris dataset - very famous dataset created by - Ronald Fisher - who is one of the grandfathers of data analytics and statistics - and he created a dataset with one-hundred-fifty - rows - five different - columns - and its all to do with iris flowers - three different types - and out of one-hundred-fifty rows - theres fifty rows to do with versicolor - fifty rows to do with setosa - fifty rows to do with virginica [2.5]"
   ]
  },
  {
   "cell_type": "markdown",
   "metadata": {},
   "source": [
    "- using the dataset to show you how pandas works - so we have used in a real dataset - and we will do be doing a few common pandas commands - not going to go through everything with pandas [2.5]"
   ]
  },
  {
   "cell_type": "markdown",
   "metadata": {},
   "source": [
    "- iris dataset - university of california at irvine - they have a machine learning repository - datasets that are commonly used in machine learning - and machine learning being sort of a branch of data analysis or a sister kind of area of research [2.5]"
   ]
  },
  {
   "cell_type": "markdown",
   "metadata": {},
   "source": [
    "- going through a workbook - analyse the iris dataset - bare bones analysis through the package - pandas [2.5]"
   ]
  },
  {
   "cell_type": "code",
   "execution_count": 1,
   "metadata": {},
   "outputs": [],
   "source": [
    "from pandas.io.parsers import read_csv as readFileCSV"
   ]
  },
  {
   "cell_type": "markdown",
   "metadata": {},
   "source": [
    "- technically just a text file - the first row is a header row - sepal_length - sepal_width - petal_length - petal_width - species - and those five little bits of text or strings are separated by commas - and every line after that has a first value - which seems to have a decimal point - so we might call it a float value - and then a comma - then another float value - then another comma - and yet another float value - and yet another comma - and another float value - then a comma - and then finally - it has a string of characters - so on the first data row here - setosa - if scroll down further in the file - you will see that the setosa is turned into versicolor - and then versicolor becomes virginica at the bottom [2.5]"
   ]
  },
  {
   "cell_type": "markdown",
   "metadata": {},
   "source": [
    "- so this is Ronald Fishers dataset - its the iris dataset - found just online - somebody has a github repository - where they have this iris dataset uploaded - and i did not do too much investigation to make sure that this is exactly as it should be - they have added the header row - which you typically do not find in the iris dataset online - you will typically find the names of the columns in a separate file to the actual data after the first line - header is included - just taken the one that i found online that has the header row included because it makes my life a little bit easier [2.5]\n",
    "\n",
    "```\n",
    "https://raw.githubusercontent.com/uiuc-cse/data-fa14/gh-pages/data/iris.csv\n",
    "```"
   ]
  },
  {
   "cell_type": "markdown",
   "metadata": {},
   "source": [
    "- so theres a header row at the top - 150 rows of data - five values in each row - numbers with decimal places - and then a string at the end - everything separated by commas - 50 setosa rows - 50 virginica rows - 50 versicolor rows [2.5]"
   ]
  },
  {
   "cell_type": "markdown",
   "metadata": {},
   "source": [
    "- so thats the file - and so i can tell pandas to just take this url from wherever this file is available online - and i can say - pandas read the csv file at this url - and it goes straight in and finds the file - downloads it temporarily - and turns it into what we call - DataFrame - so typically - examples online using pandas - will use - name - df - as the name for their dataset that they are analysing in pandas [2.5]"
   ]
  },
  {
   "cell_type": "markdown",
   "metadata": {},
   "source": [
    "- name - df - DataFrame - main data structure that pandas uses in the background - so a DataFrame - you can think of it as just as a two dimensional array - and its broken up into columns - where each column can have its own distinct type - so in our case - we have five columns in our dataset - the first four are floating point value columns - those columns contain numbers that have decimal places in them - and the fifth column has strings in it - setosa - versicolour - virginica [2.5]"
   ]
  },
  {
   "cell_type": "markdown",
   "metadata": {},
   "source": [
    "- being displayed nicely here - because pandas knows how to display things nicely when you are using jupiter - so jupiter and pandas sort of know about each other - when you ask - can i see the - DataFrame - name - df - in jupiter - if - df - is a pandas DataFrame - jupiter will display as a little kind of html style table - where the column names are at the top - then you have your data rows underneath - and it will do a little bit of ellipsis - watch out there - as i scroll down - it does not show me every single row in the DataFrame - because there are 150 of them [2.5]"
   ]
  },
  {
   "cell_type": "markdown",
   "metadata": {},
   "source": [
    "- why theres an extra sort of column - you can probably guess - pandas gives you a little index column alongside the other columns - which is a way of identifying each of the rows - so currently - pandas is using the numbers - starting at zero - all the way up to 149 - as little names for each of the rows in the file [2.5]"
   ]
  },
  {
   "cell_type": "code",
   "execution_count": 2,
   "metadata": {},
   "outputs": [],
   "source": [
    "# package pandas - subpackage io - module parsers - function read_csv alias readFileCSV - call\n",
    "df=readFileCSV(\"https://raw.githubusercontent.com/uiuc-cse/data-fa14/gh-pages/data/iris.csv\")\n",
    "# readFileCSV(\"dataset/iris.csv\")"
   ]
  },
  {
   "cell_type": "markdown",
   "metadata": {},
   "source": [
    "- DataFrame - basically a data structure - two dimensional array - you can think of it like an excel spreadsheet - or a database table - or anything like that - its literally just a very fast data structure for looking at two dimensional datasets - where you have rows and columns - and every column might have a specific type - a column might be a number - another column might be a number - another column might be a string - another column might be a date - or a time or whatever - and pandas will figure all of that out from the dataset - and try and load it in as best as it can [2.5]"
   ]
  },
  {
   "cell_type": "markdown",
   "metadata": {},
   "source": [
    "- opening up the csv file in my browser - this is literally the csv file - this is theres no extra data in this file - suggesting - theres no sort of styling - theres no information about any of the fields here - this is literally just a text file - and the difference between a csv file and an excel file - for instance - excel typically stores a lot of information about the dataset along with the dataset - so excel might store information - like the last time this dataset was looked at - and the last column was in bold - or is in red or whatever - and so excel files - in that sense - are much more featureful than a csv file - the csv files are handy because they just show you raw data - theres no hidden gotchas or anything like that [2.5]"
   ]
  },
  {
   "cell_type": "code",
   "execution_count": 3,
   "metadata": {},
   "outputs": [],
   "source": [
    "%%script bash\n",
    "start https://raw.githubusercontent.com/uiuc-cse/data-fa14/gh-pages/data/iris.csv"
   ]
  },
  {
   "cell_type": "markdown",
   "metadata": {},
   "source": [
    "- when pandas loads url in - it has to make a series of sorts of guesses - tries to do the reasonable thing - it looks at the first few rows here or something like that - and it goes - the first piece of data in each row - seems to be a number - and that number typically has a decimal place - so it goes down through the first few rows looks at the first piece of data and each row - ie the value in the first column in each row and goes out - they all look like numbers - make a number column - or a floating point column - does the same for the next couple of columns - it goes down through the first few rows and figures out - they seem to all contain numbers - make all those rows numbers - but when it comes to the fifth column - it goes - well - these things are not numbers - they seem to be strings - just characters in the roman alphabet - and so am i going to treat that column as a string column - so its going to be distinct from the other columns [2.5]"
   ]
  },
  {
   "cell_type": "markdown",
   "metadata": {},
   "source": [
    "- so thats basically what a dataframe is in pandas - just like an excel table or a database table - and the different columns have different types sometimes - and you also typically have an index sort of column thats tagged on - because i did not tell pandas what type of index to use - you might use a date or a time index - your dataset might contain sort of an index column to begin with - so you can tell pandas to use one of your columns as the index as long as its sort of reasonable - all the values are unique and all of that - but if you do not - pandas will just number the rows from zero to whatever - however long your dataset is - and that becomes important when you start taking sub selections of this data - so lets say you say give me rows from 20 to 29 - and then the index becomes really important because all of a sudden - it does not go from zero to one to two etc - it goes - 20 - 21 - 22 - 23 - in the new DataFrame sub selection that you are making [2.5]"
   ]
  },
  {
   "cell_type": "markdown",
   "metadata": {},
   "source": [
    "- so thats really it - theres no hidden bells or whistles to a DataFrame - it just is what it is - if you are wondering why you do not just use numpy for this - like numpy can deal with the two dimensional arrays as well - the key thing with numpy is that numpy is really efficient at dealing with 2d arrays - but 2d arrays where every element in the 2d array - irrespective of where it is and what column or what row - numpy likes all of the data in one array to be of the same type - so it has to be all floats - or all strings or all whatever - so in this case - mixing a string column with four floating point columns - so i need to use something like pandas - or else going to have a headache if i try to use something like numpy - so thats reading datasets in with pandas - you can see its very simple pandas makes your life easy - and it knows how to interact nicely with jupiter so that it prints them out nicely [2.5]"
   ]
  },
  {
   "cell_type": "code",
   "execution_count": 4,
   "metadata": {},
   "outputs": [
    {
     "data": {
      "text/html": [
       "<div>\n",
       "<style scoped>\n",
       "    .dataframe tbody tr th:only-of-type {\n",
       "        vertical-align: middle;\n",
       "    }\n",
       "\n",
       "    .dataframe tbody tr th {\n",
       "        vertical-align: top;\n",
       "    }\n",
       "\n",
       "    .dataframe thead th {\n",
       "        text-align: right;\n",
       "    }\n",
       "</style>\n",
       "<table border=\"1\" class=\"dataframe\">\n",
       "  <thead>\n",
       "    <tr style=\"text-align: right;\">\n",
       "      <th></th>\n",
       "      <th>sepal_length</th>\n",
       "      <th>sepal_width</th>\n",
       "      <th>petal_length</th>\n",
       "      <th>petal_width</th>\n",
       "      <th>species</th>\n",
       "    </tr>\n",
       "  </thead>\n",
       "  <tbody>\n",
       "    <tr>\n",
       "      <th>0</th>\n",
       "      <td>5.1</td>\n",
       "      <td>3.5</td>\n",
       "      <td>1.4</td>\n",
       "      <td>0.2</td>\n",
       "      <td>setosa</td>\n",
       "    </tr>\n",
       "    <tr>\n",
       "      <th>1</th>\n",
       "      <td>4.9</td>\n",
       "      <td>3.0</td>\n",
       "      <td>1.4</td>\n",
       "      <td>0.2</td>\n",
       "      <td>setosa</td>\n",
       "    </tr>\n",
       "    <tr>\n",
       "      <th>2</th>\n",
       "      <td>4.7</td>\n",
       "      <td>3.2</td>\n",
       "      <td>1.3</td>\n",
       "      <td>0.2</td>\n",
       "      <td>setosa</td>\n",
       "    </tr>\n",
       "    <tr>\n",
       "      <th>3</th>\n",
       "      <td>4.6</td>\n",
       "      <td>3.1</td>\n",
       "      <td>1.5</td>\n",
       "      <td>0.2</td>\n",
       "      <td>setosa</td>\n",
       "    </tr>\n",
       "    <tr>\n",
       "      <th>4</th>\n",
       "      <td>5.0</td>\n",
       "      <td>3.6</td>\n",
       "      <td>1.4</td>\n",
       "      <td>0.2</td>\n",
       "      <td>setosa</td>\n",
       "    </tr>\n",
       "    <tr>\n",
       "      <th>...</th>\n",
       "      <td>...</td>\n",
       "      <td>...</td>\n",
       "      <td>...</td>\n",
       "      <td>...</td>\n",
       "      <td>...</td>\n",
       "    </tr>\n",
       "    <tr>\n",
       "      <th>145</th>\n",
       "      <td>6.7</td>\n",
       "      <td>3.0</td>\n",
       "      <td>5.2</td>\n",
       "      <td>2.3</td>\n",
       "      <td>virginica</td>\n",
       "    </tr>\n",
       "    <tr>\n",
       "      <th>146</th>\n",
       "      <td>6.3</td>\n",
       "      <td>2.5</td>\n",
       "      <td>5.0</td>\n",
       "      <td>1.9</td>\n",
       "      <td>virginica</td>\n",
       "    </tr>\n",
       "    <tr>\n",
       "      <th>147</th>\n",
       "      <td>6.5</td>\n",
       "      <td>3.0</td>\n",
       "      <td>5.2</td>\n",
       "      <td>2.0</td>\n",
       "      <td>virginica</td>\n",
       "    </tr>\n",
       "    <tr>\n",
       "      <th>148</th>\n",
       "      <td>6.2</td>\n",
       "      <td>3.4</td>\n",
       "      <td>5.4</td>\n",
       "      <td>2.3</td>\n",
       "      <td>virginica</td>\n",
       "    </tr>\n",
       "    <tr>\n",
       "      <th>149</th>\n",
       "      <td>5.9</td>\n",
       "      <td>3.0</td>\n",
       "      <td>5.1</td>\n",
       "      <td>1.8</td>\n",
       "      <td>virginica</td>\n",
       "    </tr>\n",
       "  </tbody>\n",
       "</table>\n",
       "<p>150 rows × 5 columns</p>\n",
       "</div>"
      ],
      "text/plain": [
       "     sepal_length  sepal_width  petal_length  petal_width    species\n",
       "0             5.1          3.5           1.4          0.2     setosa\n",
       "1             4.9          3.0           1.4          0.2     setosa\n",
       "2             4.7          3.2           1.3          0.2     setosa\n",
       "3             4.6          3.1           1.5          0.2     setosa\n",
       "4             5.0          3.6           1.4          0.2     setosa\n",
       "..            ...          ...           ...          ...        ...\n",
       "145           6.7          3.0           5.2          2.3  virginica\n",
       "146           6.3          2.5           5.0          1.9  virginica\n",
       "147           6.5          3.0           5.2          2.0  virginica\n",
       "148           6.2          3.4           5.4          2.3  virginica\n",
       "149           5.9          3.0           5.1          1.8  virginica\n",
       "\n",
       "[150 rows x 5 columns]"
      ]
     },
     "execution_count": 4,
     "metadata": {},
     "output_type": "execute_result"
    }
   ],
   "source": [
    "df"
   ]
  },
  {
   "cell_type": "markdown",
   "metadata": {},
   "source": [
    "***\n",
    "# END"
   ]
  }
 ],
 "metadata": {
  "kernelspec": {
   "display_name": "Python 3",
   "language": "python",
   "name": "python3"
  },
  "language_info": {
   "codemirror_mode": {
    "name": "ipython",
    "version": 3
   },
   "file_extension": ".py",
   "mimetype": "text/x-python",
   "name": "python",
   "nbconvert_exporter": "python",
   "pygments_lexer": "ipython3",
   "version": "3.8.3"
  }
 },
 "nbformat": 4,
 "nbformat_minor": 4
}
